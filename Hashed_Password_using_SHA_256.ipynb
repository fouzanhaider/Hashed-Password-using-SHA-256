{
  "nbformat": 4,
  "nbformat_minor": 0,
  "metadata": {
    "colab": {
      "provenance": [],
      "authorship_tag": "ABX9TyOVt+wXJnuK6lHdlO3RArBU",
      "include_colab_link": true
    },
    "kernelspec": {
      "name": "python3",
      "display_name": "Python 3"
    },
    "language_info": {
      "name": "python"
    }
  },
  "cells": [
    {
      "cell_type": "markdown",
      "metadata": {
        "id": "view-in-github",
        "colab_type": "text"
      },
      "source": [
        "<a href=\"https://colab.research.google.com/github/fouzanhaider/Hashed-Password-using-SHA-256/blob/main/Hashed_Password_using_SHA_256.ipynb\" target=\"_parent\"><img src=\"https://colab.research.google.com/assets/colab-badge.svg\" alt=\"Open In Colab\"/></a>"
      ]
    },
    {
      "cell_type": "code",
      "execution_count": 2,
      "metadata": {
        "colab": {
          "base_uri": "https://localhost:8080/"
        },
        "id": "Utv1_LKnF5yQ",
        "outputId": "9467e6c0-6b0a-4b61-ff63-6487cb025cfa"
      },
      "outputs": [
        {
          "output_type": "stream",
          "name": "stdout",
          "text": [
            "Enter a password to hash: dfgdf\n",
            "Original password: dfgdf\n",
            "SHA-256 Hash: 7f98c2a33e55d6ffed7c28c44103cedb792c363751cda1d018b4594547706b50\n"
          ]
        }
      ],
      "source": [
        "\n",
        "import hashlib\n",
        "\n",
        "# Prompt the user to enter a password\n",
        "password = input(\"Enter a password to hash: \")\n",
        "\n",
        "# Create a SHA-256 hash object\n",
        "sha256_hash = hashlib.sha256()\n",
        "\n",
        "# Update the hash object with the password (encode it to bytes)\n",
        "sha256_hash.update(password.encode('utf-8'))\n",
        "\n",
        "# Get the hexadecimal representation of the hash\n",
        "hashed_password = sha256_hash.hexdigest()\n",
        "\n",
        "# Print the hashed password\n",
        "print(\"Original password:\", password)\n",
        "print(\"SHA-256 Hash:\", hashed_password)\n"
      ]
    }
  ]
}